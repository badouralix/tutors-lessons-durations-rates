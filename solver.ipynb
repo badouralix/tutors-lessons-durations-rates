{
 "cells": [
  {
   "cell_type": "markdown",
   "metadata": {},
   "source": [
    "# Tutors Lessons Durations Rates"
   ]
  },
  {
   "cell_type": "markdown",
   "metadata": {},
   "source": [
    "## Initial setup"
   ]
  },
  {
   "cell_type": "code",
   "execution_count": 1,
   "metadata": {},
   "outputs": [],
   "source": [
    "from collections import defaultdict\n",
    "\n",
    "import z3\n"
   ]
  },
  {
   "cell_type": "code",
   "execution_count": 2,
   "metadata": {},
   "outputs": [],
   "source": [
    "# Each list represents a dimension of the puzzle, with all its possible values\n",
    "tutors = [\"Baptiste\", \"Lylian\", \"Grégoire\", \"Charles\", \"Louis\"]\n",
    "lessons = [\"anglais\", \"allemand\", \"arabe\", \"latin\", \"chinois\"]\n",
    "durations = [\"30 minutes\", \"35 minutes\", \"40 minutes\", \"45 minutes\", \"50 minutes\"]\n",
    "rates = [\"28€\", \"35€\", \"42€\", \"49€\", \"56€\"]\n",
    "\n",
    "# Puzzle is a dict of pairs of candidates to boolean variables representing whether the given pair holds true or not\n",
    "puzzle: defaultdict[str, dict[str, z3.Bool]] = defaultdict(dict)\n",
    "for t in tutors:\n",
    "    for l in lessons:\n",
    "        puzzle[t][l] = z3.Bool(f\"{t}_{l}\")\n",
    "    for d in durations:\n",
    "        puzzle[t][d] = z3.Bool(f\"{t}_{d}\")\n",
    "    for r in rates:\n",
    "        puzzle[t][r] = z3.Bool(f\"{t}_{r}\")\n",
    "for r in rates:\n",
    "    for l in lessons:\n",
    "        puzzle[r][l] = z3.Bool(f\"{r}_{l}\")\n",
    "    for d in durations:\n",
    "        puzzle[r][d] = z3.Bool(f\"{r}_{d}\")\n",
    "for d in durations:\n",
    "    for l in lessons:\n",
    "        puzzle[d][l] = z3.Bool(f\"{d}_{l}\")\n",
    "\n",
    "# Solver provides an interface to Z3 API\n",
    "solver = z3.Solver()\n"
   ]
  },
  {
   "cell_type": "markdown",
   "metadata": {},
   "source": [
    "## Generic puzzle constraints"
   ]
  },
  {
   "cell_type": "markdown",
   "metadata": {},
   "source": [
    "Exactly one candidate is valid per line. See <https://stackoverflow.com/questions/43081929/k-out-of-n-constraint-in-z3py>."
   ]
  },
  {
   "cell_type": "code",
   "execution_count": 3,
   "metadata": {},
   "outputs": [],
   "source": [
    "for t in tutors:\n",
    "    solver.add(z3.PbEq([(puzzle[t][l], 1) for l in lessons], k=1))\n",
    "    solver.add(z3.PbEq([(puzzle[t][d], 1) for d in durations], k=1))\n",
    "    solver.add(z3.PbEq([(puzzle[t][r], 1) for r in rates], k=1))\n",
    "for r in rates:\n",
    "    solver.add(z3.PbEq([(puzzle[r][l], 1) for l in lessons], k=1))\n",
    "    solver.add(z3.PbEq([(puzzle[r][d], 1) for d in durations], k=1))\n",
    "for d in durations:\n",
    "    solver.add(z3.PbEq([(puzzle[d][l], 1) for l in lessons], k=1))\n"
   ]
  },
  {
   "cell_type": "markdown",
   "metadata": {},
   "source": [
    "Exactly one candidate is valid per column. See <https://stackoverflow.com/questions/43081929/k-out-of-n-constraint-in-z3py>."
   ]
  },
  {
   "cell_type": "code",
   "execution_count": 4,
   "metadata": {},
   "outputs": [],
   "source": [
    "for l in lessons:\n",
    "    solver.add(z3.PbEq([(puzzle[t][l], 1) for t in tutors], k=1))\n",
    "    solver.add(z3.PbEq([(puzzle[r][l], 1) for r in rates], k=1))\n",
    "    solver.add(z3.PbEq([(puzzle[d][l], 1) for d in durations], k=1))\n",
    "for d in durations:\n",
    "    solver.add(z3.PbEq([(puzzle[t][d], 1) for t in tutors], k=1))\n",
    "    solver.add(z3.PbEq([(puzzle[r][d], 1) for r in rates], k=1))\n",
    "for r in rates:\n",
    "    solver.add(z3.PbEq([(puzzle[t][r], 1) for t in tutors], k=1))\n"
   ]
  },
  {
   "cell_type": "markdown",
   "metadata": {},
   "source": [
    "Lines and columns must match."
   ]
  },
  {
   "cell_type": "code",
   "execution_count": 5,
   "metadata": {},
   "outputs": [],
   "source": [
    "for t in tutors:\n",
    "    for l in lessons:\n",
    "        for d in durations:\n",
    "            solver.add(z3.Implies(puzzle[t][l], puzzle[t][d] == puzzle[d][l]))\n",
    "        for r in rates:\n",
    "            solver.add(z3.Implies(puzzle[t][l], puzzle[t][r] == puzzle[r][l]))\n",
    "    for d in durations:\n",
    "        for r in rates:\n",
    "            solver.add(z3.Implies(puzzle[t][d], puzzle[t][r] == puzzle[r][d]))\n",
    "for r in rates:\n",
    "    for l in lessons:\n",
    "        for d in durations:\n",
    "            solver.add(z3.Implies(puzzle[r][l], puzzle[r][d] == puzzle[d][l]))\n"
   ]
  },
  {
   "cell_type": "markdown",
   "metadata": {},
   "source": [
    "## Specific puzzle constraints"
   ]
  },
  {
   "cell_type": "markdown",
   "metadata": {},
   "source": [
    "1. Le cours le plus cher n'a pas duré 35 ni 40 minutes."
   ]
  },
  {
   "cell_type": "code",
   "execution_count": 6,
   "metadata": {},
   "outputs": [],
   "source": [
    "solver.add(z3.Not(puzzle[\"56€\"][\"35 minutes\"]), z3.Not(puzzle[\"56€\"][\"40 minutes\"]))\n"
   ]
  },
  {
   "cell_type": "markdown",
   "metadata": {},
   "source": [
    "2. Le cours de Lylian a duré 5 minutes de moins que celui qui a coûté 35 euros mais plus longtemps que le cours de latin."
   ]
  },
  {
   "cell_type": "code",
   "execution_count": 7,
   "metadata": {},
   "outputs": [],
   "source": [
    "solver.add(\n",
    "    z3.Not(puzzle[\"Lylian\"][\"30 minutes\"]),\n",
    "    z3.Implies(puzzle[\"Lylian\"][\"35 minutes\"], puzzle[\"35€\"][\"40 minutes\"]),\n",
    "    z3.Implies(\n",
    "        puzzle[\"Lylian\"][\"35 minutes\"],\n",
    "        z3.Or(\n",
    "            puzzle[\"30 minutes\"][\"latin\"],\n",
    "        ),\n",
    "    ),\n",
    "    z3.Implies(puzzle[\"Lylian\"][\"40 minutes\"], puzzle[\"35€\"][\"45 minutes\"]),\n",
    "    z3.Implies(\n",
    "        puzzle[\"Lylian\"][\"40 minutes\"],\n",
    "        z3.Or(\n",
    "            puzzle[\"30 minutes\"][\"latin\"],\n",
    "            puzzle[\"35 minutes\"][\"latin\"],\n",
    "        ),\n",
    "    ),\n",
    "    z3.Implies(puzzle[\"Lylian\"][\"45 minutes\"], puzzle[\"35€\"][\"50 minutes\"]),\n",
    "    z3.Implies(\n",
    "        puzzle[\"Lylian\"][\"45 minutes\"],\n",
    "        z3.Or(\n",
    "            puzzle[\"30 minutes\"][\"latin\"],\n",
    "            puzzle[\"35 minutes\"][\"latin\"],\n",
    "            puzzle[\"40 minutes\"][\"latin\"],\n",
    "        ),\n",
    "    ),\n",
    "    z3.Not(puzzle[\"Lylian\"][\"50 minutes\"]),\n",
    ")\n"
   ]
  },
  {
   "cell_type": "markdown",
   "metadata": {},
   "source": [
    "3. Le cours d'arabe a coûté plus cher que celui de Louis mais moins cher que celui de 30 minutes."
   ]
  },
  {
   "cell_type": "code",
   "execution_count": 8,
   "metadata": {},
   "outputs": [],
   "source": [
    "solver.add(\n",
    "    z3.Not(puzzle[\"28€\"][\"arabe\"]),\n",
    "    z3.Implies(\n",
    "        puzzle[\"35€\"][\"arabe\"],\n",
    "        z3.Or(\n",
    "            puzzle[\"Louis\"][\"28€\"],\n",
    "        ),\n",
    "    ),\n",
    "    z3.Implies(\n",
    "        puzzle[\"35€\"][\"arabe\"],\n",
    "        z3.Or(\n",
    "            puzzle[\"42€\"][\"30 minutes\"],\n",
    "            puzzle[\"49€\"][\"30 minutes\"],\n",
    "            puzzle[\"56€\"][\"30 minutes\"],\n",
    "        ),\n",
    "    ),\n",
    "    z3.Implies(\n",
    "        puzzle[\"42€\"][\"arabe\"],\n",
    "        z3.Or(\n",
    "            puzzle[\"Louis\"][\"28€\"],\n",
    "            puzzle[\"Louis\"][\"35€\"],\n",
    "        ),\n",
    "    ),\n",
    "    z3.Implies(\n",
    "        puzzle[\"42€\"][\"arabe\"],\n",
    "        z3.Or(\n",
    "            puzzle[\"49€\"][\"30 minutes\"],\n",
    "            puzzle[\"56€\"][\"30 minutes\"],\n",
    "        ),\n",
    "    ),\n",
    "    z3.Implies(\n",
    "        puzzle[\"49€\"][\"arabe\"],\n",
    "        z3.Or(\n",
    "            puzzle[\"Louis\"][\"28€\"],\n",
    "            puzzle[\"Louis\"][\"35€\"],\n",
    "            puzzle[\"Louis\"][\"42€\"],\n",
    "        ),\n",
    "    ),\n",
    "    z3.Implies(\n",
    "        puzzle[\"49€\"][\"arabe\"],\n",
    "        z3.Or(\n",
    "            puzzle[\"56€\"][\"30 minutes\"],\n",
    "        ),\n",
    "    ),\n",
    "    z3.Not(puzzle[\"56€\"][\"arabe\"]),\n",
    ")\n"
   ]
  },
  {
   "cell_type": "markdown",
   "metadata": {},
   "source": [
    "4. Charles n'enseigne pas l'anglais ni l'arabe mais son cours n'a pas duré 5 minutes de moins que celui de Lylian."
   ]
  },
  {
   "cell_type": "code",
   "execution_count": 9,
   "metadata": {},
   "outputs": [],
   "source": [
    "solver.add(\n",
    "    z3.Not(puzzle[\"Charles\"][\"anglais\"]),\n",
    "    z3.Not(puzzle[\"Charles\"][\"arabe\"]),\n",
    "    z3.Implies(puzzle[\"Charles\"][\"30 minutes\"], z3.Not(puzzle[\"Lylian\"][\"35 minutes\"])),\n",
    "    z3.Implies(puzzle[\"Charles\"][\"35 minutes\"], z3.Not(puzzle[\"Lylian\"][\"40 minutes\"])),\n",
    "    z3.Implies(puzzle[\"Charles\"][\"40 minutes\"], z3.Not(puzzle[\"Lylian\"][\"45 minutes\"])),\n",
    "    z3.Implies(puzzle[\"Charles\"][\"45 minutes\"], z3.Not(puzzle[\"Lylian\"][\"50 minutes\"])),\n",
    ")\n"
   ]
  },
  {
   "cell_type": "markdown",
   "metadata": {},
   "source": [
    "5. Le cours de chinois a duré 5 minutes de moins que celui à 42 euros mais plus longtemps que celui de Baptiste, dont le prix diffère de plus de 7 euros de celui de Charles."
   ]
  },
  {
   "cell_type": "code",
   "execution_count": 10,
   "metadata": {},
   "outputs": [],
   "source": [
    "solver.add(\n",
    "    z3.Not(puzzle[\"30 minutes\"][\"chinois\"]),\n",
    "    z3.Implies(puzzle[\"35 minutes\"][\"chinois\"], puzzle[\"42€\"][\"40 minutes\"]),\n",
    "    z3.Implies(\n",
    "        puzzle[\"35 minutes\"][\"chinois\"],\n",
    "        z3.Or(\n",
    "            puzzle[\"Baptiste\"][\"30 minutes\"],\n",
    "        ),\n",
    "    ),\n",
    "    z3.Implies(puzzle[\"40 minutes\"][\"chinois\"], puzzle[\"42€\"][\"45 minutes\"]),\n",
    "    z3.Implies(\n",
    "        puzzle[\"40 minutes\"][\"chinois\"],\n",
    "        z3.Or(\n",
    "            puzzle[\"Baptiste\"][\"30 minutes\"],\n",
    "            puzzle[\"Baptiste\"][\"35 minutes\"],\n",
    "        ),\n",
    "    ),\n",
    "    z3.Implies(puzzle[\"45 minutes\"][\"chinois\"], puzzle[\"42€\"][\"50 minutes\"]),\n",
    "    z3.Implies(\n",
    "        puzzle[\"45 minutes\"][\"chinois\"],\n",
    "        z3.Or(\n",
    "            puzzle[\"Baptiste\"][\"30 minutes\"],\n",
    "            puzzle[\"Baptiste\"][\"35 minutes\"],\n",
    "            puzzle[\"Baptiste\"][\"40 minutes\"],\n",
    "        ),\n",
    "    ),\n",
    "    z3.Not(puzzle[\"50 minutes\"][\"chinois\"]),\n",
    ")\n",
    "\n",
    "solver.add(\n",
    "    z3.Implies(\n",
    "        puzzle[\"Baptiste\"][\"28€\"],\n",
    "        z3.Or(\n",
    "            puzzle[\"Charles\"][\"42€\"],\n",
    "            puzzle[\"Charles\"][\"49€\"],\n",
    "            puzzle[\"Charles\"][\"56€\"],\n",
    "        ),\n",
    "    ),\n",
    "    z3.Implies(\n",
    "        puzzle[\"Baptiste\"][\"35€\"],\n",
    "        z3.Or(\n",
    "            puzzle[\"Charles\"][\"49€\"],\n",
    "            puzzle[\"Charles\"][\"56€\"],\n",
    "        ),\n",
    "    ),\n",
    "    z3.Implies(\n",
    "        puzzle[\"Baptiste\"][\"42€\"],\n",
    "        z3.Or(\n",
    "            puzzle[\"Charles\"][\"28€\"],\n",
    "            puzzle[\"Charles\"][\"56€\"],\n",
    "        ),\n",
    "    ),\n",
    "    z3.Implies(\n",
    "        puzzle[\"Baptiste\"][\"49€\"],\n",
    "        z3.Or(\n",
    "            puzzle[\"Charles\"][\"28€\"],\n",
    "            puzzle[\"Charles\"][\"35€\"],\n",
    "        ),\n",
    "    ),\n",
    "    z3.Implies(\n",
    "        puzzle[\"Baptiste\"][\"56€\"],\n",
    "        z3.Or(\n",
    "            puzzle[\"Charles\"][\"28€\"],\n",
    "            puzzle[\"Charles\"][\"35€\"],\n",
    "            puzzle[\"Charles\"][\"42€\"],\n",
    "        ),\n",
    "    ),\n",
    ")\n"
   ]
  },
  {
   "cell_type": "markdown",
   "metadata": {},
   "source": [
    "6. Le cours de Grégoire a coûté plus cher que le cours d'allemand mais moins cher que le plus long."
   ]
  },
  {
   "cell_type": "code",
   "execution_count": 11,
   "metadata": {},
   "outputs": [],
   "source": [
    "solver.add(\n",
    "    z3.Not(puzzle[\"Grégoire\"][\"28€\"]),\n",
    "    z3.Implies(\n",
    "        puzzle[\"Grégoire\"][\"35€\"],\n",
    "        z3.Or(\n",
    "            puzzle[\"28€\"][\"allemand\"],\n",
    "        ),\n",
    "    ),\n",
    "    z3.Implies(\n",
    "        puzzle[\"Grégoire\"][\"35€\"],\n",
    "        z3.Or(\n",
    "            puzzle[\"42€\"][\"50 minutes\"],\n",
    "            puzzle[\"49€\"][\"50 minutes\"],\n",
    "            puzzle[\"56€\"][\"50 minutes\"],\n",
    "        ),\n",
    "    ),\n",
    "    z3.Implies(\n",
    "        puzzle[\"Grégoire\"][\"42€\"],\n",
    "        z3.Or(\n",
    "            puzzle[\"28€\"][\"allemand\"],\n",
    "            puzzle[\"35€\"][\"allemand\"],\n",
    "        ),\n",
    "    ),\n",
    "    z3.Implies(\n",
    "        puzzle[\"Grégoire\"][\"42€\"],\n",
    "        z3.Or(\n",
    "            puzzle[\"49€\"][\"50 minutes\"],\n",
    "            puzzle[\"56€\"][\"50 minutes\"],\n",
    "        ),\n",
    "    ),\n",
    "    z3.Implies(\n",
    "        puzzle[\"Grégoire\"][\"49€\"],\n",
    "        z3.Or(\n",
    "            puzzle[\"28€\"][\"allemand\"],\n",
    "            puzzle[\"35€\"][\"allemand\"],\n",
    "            puzzle[\"42€\"][\"allemand\"],\n",
    "        ),\n",
    "    ),\n",
    "    z3.Implies(\n",
    "        puzzle[\"Grégoire\"][\"49€\"],\n",
    "        z3.Or(\n",
    "            puzzle[\"56€\"][\"50 minutes\"],\n",
    "        ),\n",
    "    ),\n",
    "    z3.Not(puzzle[\"Grégoire\"][\"56€\"]),\n",
    ")\n"
   ]
  },
  {
   "cell_type": "markdown",
   "metadata": {},
   "source": [
    "## First solution"
   ]
  },
  {
   "cell_type": "code",
   "execution_count": 12,
   "metadata": {},
   "outputs": [
    {
     "name": "stdout",
     "output_type": "stream",
     "text": [
      "Baptiste donne un cours d'allemand de 35 minutes à 28€.\n",
      "Lylian donne un cours d'arabe de 40 minutes à 49€.\n",
      "Grégoire donne un cours de chinois de 45 minutes à 35€.\n",
      "Charles donne un cours de latin de 30 minutes à 56€.\n",
      "Louis donne un cours d'anglais de 50 minutes à 42€.\n"
     ]
    }
   ],
   "source": [
    "if solver.check() == z3.sat:\n",
    "    for t in tutors:\n",
    "        message = f\"{t} donne un cours \"\n",
    "        for l in lessons:\n",
    "            if solver.model()[puzzle[t][l]]:\n",
    "                if l[0] in \"aeiouy\":\n",
    "                    message += f\"d'{l} \"\n",
    "                else:\n",
    "                    message += f\"de {l} \"\n",
    "                break\n",
    "        for d in durations:\n",
    "            if solver.model()[puzzle[t][d]]:\n",
    "                message += f\"de {d} \"\n",
    "                break\n",
    "        for r in rates:\n",
    "            if solver.model()[puzzle[t][r]]:\n",
    "                message += f\"à {r}.\"\n",
    "                break\n",
    "        print(message)\n",
    "else:\n",
    "    print(solver.check())\n"
   ]
  },
  {
   "cell_type": "markdown",
   "metadata": {},
   "source": [
    "## Other solutions"
   ]
  },
  {
   "cell_type": "markdown",
   "metadata": {},
   "source": [
    "Now let's try to find another solution by adding a new constraint. At least one variable must be different from the previous model."
   ]
  },
  {
   "cell_type": "code",
   "execution_count": 13,
   "metadata": {},
   "outputs": [
    {
     "name": "stdout",
     "output_type": "stream",
     "text": [
      "unsat\n"
     ]
    }
   ],
   "source": [
    "if solver.check() == z3.sat:\n",
    "    print(\n",
    "        solver.check(\n",
    "            z3.Or(\n",
    "                *[\n",
    "                    puzzle[t][l] != solver.model()[puzzle[t][l]]\n",
    "                    for t in tutors\n",
    "                    for l in lessons\n",
    "                ],\n",
    "                *[\n",
    "                    puzzle[t][d] != solver.model()[puzzle[t][d]]\n",
    "                    for t in tutors\n",
    "                    for d in durations\n",
    "                ],\n",
    "                *[\n",
    "                    puzzle[t][r] != solver.model()[puzzle[t][r]]\n",
    "                    for t in tutors\n",
    "                    for r in rates\n",
    "                ],\n",
    "                *[\n",
    "                    puzzle[r][l] != solver.model()[puzzle[r][l]]\n",
    "                    for r in rates\n",
    "                    for l in lessons\n",
    "                ],\n",
    "                *[\n",
    "                    puzzle[r][d] != solver.model()[puzzle[r][d]]\n",
    "                    for r in rates\n",
    "                    for d in durations\n",
    "                ],\n",
    "                *[\n",
    "                    puzzle[d][l] != solver.model()[puzzle[d][l]]\n",
    "                    for d in durations\n",
    "                    for l in lessons\n",
    "                ],\n",
    "            )\n",
    "        )\n",
    "    )\n",
    "else:\n",
    "    raise Exception(\"Cannot find the next solution as no previous solution was found\")\n"
   ]
  }
 ],
 "metadata": {
  "interpreter": {
   "hash": "d4ec917ff465d8d5471061e94e3c617f349655eb89f47198bc723d2d34e4ed74"
  },
  "kernelspec": {
   "display_name": "Python 3.10.2 ('tutors-lessons-durations-rates-Tf3eGwIm-py3.10')",
   "language": "python",
   "name": "python3"
  },
  "language_info": {
   "codemirror_mode": {
    "name": "ipython",
    "version": 3
   },
   "file_extension": ".py",
   "mimetype": "text/x-python",
   "name": "python",
   "nbconvert_exporter": "python",
   "pygments_lexer": "ipython3",
   "version": "3.10.2"
  },
  "orig_nbformat": 4
 },
 "nbformat": 4,
 "nbformat_minor": 2
}
